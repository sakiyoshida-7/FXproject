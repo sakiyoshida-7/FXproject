{
 "cells": [
  {
   "cell_type": "code",
   "execution_count": 25,
   "metadata": {},
   "outputs": [],
   "source": [
    "# OANDA\n",
    "import configparser\n",
    "import pandas as pd\n",
    "from oandapyV20 import API\n",
    "import oandapyV20.endpoints.instruments as instruments\n",
    "import datetime\n",
    "from datetime import datetime, timedelta\n",
    "import pytz\n",
    "import matplotlib as mpl\n",
    "import matplotlib.pyplot as plt"
   ]
  },
  {
   "cell_type": "code",
   "execution_count": 26,
   "metadata": {},
   "outputs": [],
   "source": [
    "# 設定\n",
    "config = configparser.ConfigParser()\n",
    "config.read('config_v1.txt') \n",
    "account_id = config['oanda']['account_id']\n",
    "api_key = config['oanda']['api_key']"
   ]
  },
  {
   "cell_type": "code",
   "execution_count": 98,
   "metadata": {},
   "outputs": [],
   "source": [
    "instrument = \"USD_JPY\"\n",
    "params = {\"count\": 50, \"granularity\": \"M30\"}"
   ]
  },
  {
   "cell_type": "code",
   "execution_count": 99,
   "metadata": {},
   "outputs": [],
   "source": [
    "# APIへ接続\n",
    "api = API(access_token=api_key)\n",
    "r = instruments.InstrumentsCandles(instrument=instrument, params=params)\n",
    "api.request(r)\n",
    "# dataとしてリストへ変換\n",
    "data = []\n",
    "for raw in r.response['candles']:\n",
    "    data.append([raw['time'], raw['volume'], raw['mid']['o'], raw['mid']['h'], raw['mid']['l'], raw['mid']['c']])"
   ]
  },
  {
   "cell_type": "code",
   "execution_count": null,
   "metadata": {},
   "outputs": [],
   "source": []
  },
  {
   "cell_type": "code",
   "execution_count": 126,
   "metadata": {},
   "outputs": [
    {
     "data": {
      "text/html": [
       "<div>\n",
       "<style scoped>\n",
       "    .dataframe tbody tr th:only-of-type {\n",
       "        vertical-align: middle;\n",
       "    }\n",
       "\n",
       "    .dataframe tbody tr th {\n",
       "        vertical-align: top;\n",
       "    }\n",
       "\n",
       "    .dataframe thead th {\n",
       "        text-align: right;\n",
       "    }\n",
       "</style>\n",
       "<table border=\"1\" class=\"dataframe\">\n",
       "  <thead>\n",
       "    <tr style=\"text-align: right;\">\n",
       "      <th></th>\n",
       "      <th>volume</th>\n",
       "      <th>open</th>\n",
       "      <th>high</th>\n",
       "      <th>low</th>\n",
       "      <th>close</th>\n",
       "    </tr>\n",
       "    <tr>\n",
       "      <th>time</th>\n",
       "      <th></th>\n",
       "      <th></th>\n",
       "      <th></th>\n",
       "      <th></th>\n",
       "      <th></th>\n",
       "    </tr>\n",
       "  </thead>\n",
       "  <tbody>\n",
       "    <tr>\n",
       "      <th>2020-06-05 18:30:00</th>\n",
       "      <td>1245</td>\n",
       "      <td>109.621</td>\n",
       "      <td>109.658</td>\n",
       "      <td>109.607</td>\n",
       "      <td>109.610</td>\n",
       "    </tr>\n",
       "    <tr>\n",
       "      <th>2020-06-05 19:00:00</th>\n",
       "      <td>814</td>\n",
       "      <td>109.608</td>\n",
       "      <td>109.638</td>\n",
       "      <td>109.578</td>\n",
       "      <td>109.615</td>\n",
       "    </tr>\n",
       "    <tr>\n",
       "      <th>2020-06-05 19:30:00</th>\n",
       "      <td>778</td>\n",
       "      <td>109.614</td>\n",
       "      <td>109.657</td>\n",
       "      <td>109.594</td>\n",
       "      <td>109.644</td>\n",
       "    </tr>\n",
       "    <tr>\n",
       "      <th>2020-06-05 20:00:00</th>\n",
       "      <td>444</td>\n",
       "      <td>109.646</td>\n",
       "      <td>109.675</td>\n",
       "      <td>109.602</td>\n",
       "      <td>109.614</td>\n",
       "    </tr>\n",
       "    <tr>\n",
       "      <th>2020-06-05 20:30:00</th>\n",
       "      <td>281</td>\n",
       "      <td>109.612</td>\n",
       "      <td>109.629</td>\n",
       "      <td>109.578</td>\n",
       "      <td>109.590</td>\n",
       "    </tr>\n",
       "  </tbody>\n",
       "</table>\n",
       "</div>"
      ],
      "text/plain": [
       "                     volume     open     high      low    close\n",
       "time                                                           \n",
       "2020-06-05 18:30:00    1245  109.621  109.658  109.607  109.610\n",
       "2020-06-05 19:00:00     814  109.608  109.638  109.578  109.615\n",
       "2020-06-05 19:30:00     778  109.614  109.657  109.594  109.644\n",
       "2020-06-05 20:00:00     444  109.646  109.675  109.602  109.614\n",
       "2020-06-05 20:30:00     281  109.612  109.629  109.578  109.590"
      ]
     },
     "execution_count": 126,
     "metadata": {},
     "output_type": "execute_result"
    },
    {
     "data": {
      "image/png": "[encoded data removed]",
      "text/plain": [
       "<matplotlib.figure.Figure at 0x114e0f780>"
      ]
     },
     "metadata": {},
     "output_type": "display_data"
    }
   ],
   "source": [
    "# リストからデータフレームへ変換\n",
    "df = pd.DataFrame(data)\n",
    "for i in range(4):\n",
    "    df[i+2] = df[i+2].astype('float')\n",
    "df.columns = ['time', 'volume', 'open', 'high', 'low', 'close']\n",
    "df = df.set_index('time')\n",
    "# date型を綺麗にする\n",
    "df.index = pd.to_datetime(df.index)\n",
    "df.head()\n",
    "# df.iloc[:,1:5].plot()\n",
    "df.plot(y=df.columns[4])\n",
    "df.head()"
   ]
  },
  {
   "cell_type": "code",
   "execution_count": 140,
   "metadata": {},
   "outputs": [
    {
     "name": "stdout",
     "output_type": "stream",
     "text": [
      "time\n",
      "2020-06-08 17:00:00    108.354\n",
      "2020-06-08 17:30:00    108.344\n",
      "2020-06-08 18:00:00    108.312\n",
      "2020-06-08 18:30:00    108.330\n",
      "2020-06-08 19:00:00    108.348\n",
      "Name: close, dtype: float64\n",
      "108.58879999999999 108.5606923076923 108.85600000000001\n",
      "\n"
     ]
    }
   ],
   "source": [
    "#　移動平均線\n",
    "res = \"\"\n",
    "print(df['close'][-5:])\n",
    "\n",
    "sum = 0\n",
    "for i in range(5):\n",
    "    sum += df['close'][-i]\n",
    "red_ave = sum/5\n",
    "\n",
    "sum = 0\n",
    "for i in range(13):\n",
    "    sum += df['close'][-i]\n",
    "yellow_ave = sum/13\n",
    "\n",
    "sum=0\n",
    "for i in range(21):\n",
    "    sum += df['close'][-i]\n",
    "blue_ave = sum/21\n",
    "print(red_ave,yellow_ave,blue_ave)\n",
    "if (red_ave>yellow_ave>blue_ave):\n",
    "    res = \"移動平均線が理想的に上昇\"\n",
    "elif (red_ave<yellow_ave<blue_ave):\n",
    "    res = \"移動平均線が理想的に下降\"\n",
    "print(res)"
   ]
  },
  {
   "cell_type": "markdown",
   "metadata": {},
   "source": [
    "移動平均線\n",
    "赤　5本\n",
    "黄色　13本\n",
    "青　21本"
   ]
  },
  {
   "cell_type": "markdown",
   "metadata": {},
   "source": [
    "## LINEを送る"
   ]
  },
  {
   "cell_type": "code",
   "execution_count": 24,
   "metadata": {},
   "outputs": [],
   "source": [
    "from functions.line_notify_bot import LINENotifyBot\n",
    "\n",
    "bot = LINENotifyBot(access_token='iCOQf3nXJkDKxU5pkOf6Mn4sT3f6DoPGbiZ9AAp0Ry6')\n",
    "bot.send(\n",
    "    message='Write Your Message',\n",
    "    )"
   ]
  },
  {
   "cell_type": "markdown",
   "metadata": {},
   "source": [
    "messageに通貨ペアをアナウンス"
   ]
  },
  {
   "cell_type": "code",
   "execution_count": 18,
   "metadata": {},
   "outputs": [],
   "source": [
    "message = 'My Message'\n",
    "# image = 'test.png'  # png or jpg\n",
    "payload = {'message': message}\n",
    "# files = {'imageFile': open(image, 'rb')}\n",
    "# r = requests.post(url, headers=headers, params=payload, files=files,)\n",
    "r = requests.post(url, headers=headers, params=payload)"
   ]
  },
  {
   "cell_type": "code",
   "execution_count": null,
   "metadata": {},
   "outputs": [],
   "source": []
  },
  {
   "cell_type": "markdown",
   "metadata": {},
   "source": [
    "## メールを送る"
   ]
  },
  {
   "cell_type": "code",
   "execution_count": 6,
   "metadata": {},
   "outputs": [],
   "source": [
    "# smtp_host = 'smtp.gmail.com'\n",
    "# smtp_port = 465\n",
    "# username = 'saaaxx.y0717@gmail.com'\n",
    "# password = 'Ko1116q4MD'\n",
    "# from_address = 'saaaxx.y0717@gmail.com'\n",
    "# to_address = 'saaaxx.y0717@gmail.com'\n",
    "# subject = 'test subject'\n",
    "# body = 'test body'\n",
    "# message = (\"From: %s\\r\\nTo: %s\\r\\nSubject: %s\\r\\n\\r\\n%s\" % (from_address, to_address, subject, body))\n",
    "\n",
    "# smtp = smtplib.SMTP_SSL(smtp_host, smtp_port)\n",
    "# smtp.login(username, password)\n",
    "# result = smtp.sendmail(from_address, to_address, message)\n",
    "# print(result)"
   ]
  },
  {
   "cell_type": "code",
   "execution_count": 12,
   "metadata": {},
   "outputs": [],
   "source": [
    "#メール\n",
    "import smtplib\n",
    "import os\n",
    "import pickle\n",
    "import os.path\n",
    "from googleapiclient.discovery import build\n",
    "from google_auth_oauthlib.flow import InstalledAppFlow\n",
    "from google.auth.transport.requests import Request\n",
    "import base64\n",
    "from email.mime.text import MIMEText\n",
    "from apiclient import errors\n"
   ]
  },
  {
   "cell_type": "code",
   "execution_count": 13,
   "metadata": {},
   "outputs": [],
   "source": [
    "# Gmail APIのスコープを設定\n",
    "SCOPES = ['https://www.googleapis.com/auth/gmail.send']\n",
    "# メール本文の作成\n",
    "def create_message(sender, to, subject, message_text):\n",
    "    message = MIMEText(message_text)\n",
    "    message['to'] = to\n",
    "    message['from'] = sender\n",
    "    message['subject'] = subject\n",
    "    encode_message = base64.urlsafe_b64encode(message.as_bytes())\n",
    "    return {'raw': encode_message.decode()}\n",
    "\n",
    "# メール送信の実行\n",
    "def send_message(service, user_id, message):\n",
    "    try:\n",
    "        message = (service.users().messages().send(userId=user_id, body=message)\n",
    "                   .execute())\n",
    "        print('Message Id: %s' % message['id'])\n",
    "        return message\n",
    "    except errors.HttpError as error:\n",
    "        print('An error occurred: %s' % error)\n",
    "        \n",
    "\n",
    "def main():\n",
    "    # 5. アクセストークンの取得\n",
    "    creds = None\n",
    "    if os.path.exists('token.pickle'):\n",
    "        with open('token.pickle', 'rb') as token:\n",
    "            creds = pickle.load(token)\n",
    "    if not creds or not creds.valid:\n",
    "        if creds and creds.expired and creds.refresh_token:\n",
    "            creds.refresh(Request())\n",
    "        else:\n",
    "            flow = InstalledAppFlow.from_client_secrets_file('../client_secret_226080186606-qrskl6haa432e78q4u39so90nf9ue72n.apps.googleusercontent.com.json', SCOPES)\n",
    "            creds = flow.run_local_server()\n",
    "        with open('token.pickle', 'wb') as token:\n",
    "            pickle.dump(creds, token)\n",
    "    service = build('gmail', 'v1', credentials=creds)\n",
    "    # 6. メール本文の作成\n",
    "    sender = 'saaaxx.y0717@gmail.com'\n",
    "    to = 'saaaxx.y0717@gmail.com'\n",
    "    subject = 'メール送信自動化テスト'\n",
    "    message_text = 'メール送信の自動化テストをしています。'\n",
    "    message = create_message(sender, to, subject, message_text)\n",
    "    # 7. Gmail APIを呼び出してメール送信\n",
    "    send_message(service, 'me', message)\n",
    "\n"
   ]
  },
  {
   "cell_type": "code",
   "execution_count": 15,
   "metadata": {},
   "outputs": [
    {
     "name": "stdout",
     "output_type": "stream",
     "text": [
      "Please visit this URL to authorize this application: https://accounts.google.com/o/oauth2/auth?response_type=code&client_id=226080186606-qrskl6haa432e78q4u39so90nf9ue72n.apps.googleusercontent.com&redirect_uri=http%3A%2F%2Flocalhost%3A8080%2F&scope=https%3A%2F%2Fwww.googleapis.com%2Fauth%2Fgmail.send&state=uxptBRXYuxHrxFuTKD8hGE4KUdOTga&access_type=offline\n"
     ]
    },
    {
     "ename": "KeyboardInterrupt",
     "evalue": "",
     "output_type": "error",
     "traceback": [
      "\u001b[0;31m---------------------------------------------------------------------------\u001b[0m",
      "\u001b[0;31mKeyboardInterrupt\u001b[0m                         Traceback (most recent call last)",
      "\u001b[0;32m<ipython-input-15-263240bbee7e>\u001b[0m in \u001b[0;36m<module>\u001b[0;34m()\u001b[0m\n\u001b[0;32m----> 1\u001b[0;31m \u001b[0mmain\u001b[0m\u001b[0;34m(\u001b[0m\u001b[0;34m)\u001b[0m\u001b[0;34m\u001b[0m\u001b[0m\n\u001b[0m",
      "\u001b[0;32m<ipython-input-13-b0f6b1c9aa1d>\u001b[0m in \u001b[0;36mmain\u001b[0;34m()\u001b[0m\n\u001b[1;32m     32\u001b[0m         \u001b[0;32melse\u001b[0m\u001b[0;34m:\u001b[0m\u001b[0;34m\u001b[0m\u001b[0m\n\u001b[1;32m     33\u001b[0m             \u001b[0mflow\u001b[0m \u001b[0;34m=\u001b[0m \u001b[0mInstalledAppFlow\u001b[0m\u001b[0;34m.\u001b[0m\u001b[0mfrom_client_secrets_file\u001b[0m\u001b[0;34m(\u001b[0m\u001b[0;34m'../client_secret_226080186606-qrskl6haa432e78q4u39so90nf9ue72n.apps.googleusercontent.com.json'\u001b[0m\u001b[0;34m,\u001b[0m \u001b[0mSCOPES\u001b[0m\u001b[0;34m)\u001b[0m\u001b[0;34m\u001b[0m\u001b[0m\n\u001b[0;32m---> 34\u001b[0;31m             \u001b[0mcreds\u001b[0m \u001b[0;34m=\u001b[0m \u001b[0mflow\u001b[0m\u001b[0;34m.\u001b[0m\u001b[0mrun_local_server\u001b[0m\u001b[0;34m(\u001b[0m\u001b[0;34m)\u001b[0m\u001b[0;34m\u001b[0m\u001b[0m\n\u001b[0m\u001b[1;32m     35\u001b[0m         \u001b[0;32mwith\u001b[0m \u001b[0mopen\u001b[0m\u001b[0;34m(\u001b[0m\u001b[0;34m'token.pickle'\u001b[0m\u001b[0;34m,\u001b[0m \u001b[0;34m'wb'\u001b[0m\u001b[0;34m)\u001b[0m \u001b[0;32mas\u001b[0m \u001b[0mtoken\u001b[0m\u001b[0;34m:\u001b[0m\u001b[0;34m\u001b[0m\u001b[0m\n\u001b[1;32m     36\u001b[0m             \u001b[0mpickle\u001b[0m\u001b[0;34m.\u001b[0m\u001b[0mdump\u001b[0m\u001b[0;34m(\u001b[0m\u001b[0mcreds\u001b[0m\u001b[0;34m,\u001b[0m \u001b[0mtoken\u001b[0m\u001b[0;34m)\u001b[0m\u001b[0;34m\u001b[0m\u001b[0m\n",
      "\u001b[0;32m~/.local/lib/python3.6/site-packages/google_auth_oauthlib/flow.py\u001b[0m in \u001b[0;36mrun_local_server\u001b[0;34m(self, host, port, authorization_prompt_message, success_message, open_browser, **kwargs)\u001b[0m\n\u001b[1;32m    452\u001b[0m         \u001b[0mprint\u001b[0m\u001b[0;34m(\u001b[0m\u001b[0mauthorization_prompt_message\u001b[0m\u001b[0;34m.\u001b[0m\u001b[0mformat\u001b[0m\u001b[0;34m(\u001b[0m\u001b[0murl\u001b[0m\u001b[0;34m=\u001b[0m\u001b[0mauth_url\u001b[0m\u001b[0;34m)\u001b[0m\u001b[0;34m)\u001b[0m\u001b[0;34m\u001b[0m\u001b[0m\n\u001b[1;32m    453\u001b[0m \u001b[0;34m\u001b[0m\u001b[0m\n\u001b[0;32m--> 454\u001b[0;31m         \u001b[0mlocal_server\u001b[0m\u001b[0;34m.\u001b[0m\u001b[0mhandle_request\u001b[0m\u001b[0;34m(\u001b[0m\u001b[0;34m)\u001b[0m\u001b[0;34m\u001b[0m\u001b[0m\n\u001b[0m\u001b[1;32m    455\u001b[0m \u001b[0;34m\u001b[0m\u001b[0m\n\u001b[1;32m    456\u001b[0m         \u001b[0;31m# Note: using https here because oauthlib is very picky that\u001b[0m\u001b[0;34m\u001b[0m\u001b[0;34m\u001b[0m\u001b[0m\n",
      "\u001b[0;32m/usr/local/var/pyenv/versions/anaconda3-5.1.0/lib/python3.6/socketserver.py\u001b[0m in \u001b[0;36mhandle_request\u001b[0;34m(self)\u001b[0m\n\u001b[1;32m    293\u001b[0m \u001b[0;34m\u001b[0m\u001b[0m\n\u001b[1;32m    294\u001b[0m             \u001b[0;32mwhile\u001b[0m \u001b[0;32mTrue\u001b[0m\u001b[0;34m:\u001b[0m\u001b[0;34m\u001b[0m\u001b[0m\n\u001b[0;32m--> 295\u001b[0;31m                 \u001b[0mready\u001b[0m \u001b[0;34m=\u001b[0m \u001b[0mselector\u001b[0m\u001b[0;34m.\u001b[0m\u001b[0mselect\u001b[0m\u001b[0;34m(\u001b[0m\u001b[0mtimeout\u001b[0m\u001b[0;34m)\u001b[0m\u001b[0;34m\u001b[0m\u001b[0m\n\u001b[0m\u001b[1;32m    296\u001b[0m                 \u001b[0;32mif\u001b[0m \u001b[0mready\u001b[0m\u001b[0;34m:\u001b[0m\u001b[0;34m\u001b[0m\u001b[0m\n\u001b[1;32m    297\u001b[0m                     \u001b[0;32mreturn\u001b[0m \u001b[0mself\u001b[0m\u001b[0;34m.\u001b[0m\u001b[0m_handle_request_noblock\u001b[0m\u001b[0;34m(\u001b[0m\u001b[0;34m)\u001b[0m\u001b[0;34m\u001b[0m\u001b[0m\n",
      "\u001b[0;32m/usr/local/var/pyenv/versions/anaconda3-5.1.0/lib/python3.6/selectors.py\u001b[0m in \u001b[0;36mselect\u001b[0;34m(self, timeout)\u001b[0m\n\u001b[1;32m    374\u001b[0m             \u001b[0mready\u001b[0m \u001b[0;34m=\u001b[0m \u001b[0;34m[\u001b[0m\u001b[0;34m]\u001b[0m\u001b[0;34m\u001b[0m\u001b[0m\n\u001b[1;32m    375\u001b[0m             \u001b[0;32mtry\u001b[0m\u001b[0;34m:\u001b[0m\u001b[0;34m\u001b[0m\u001b[0m\n\u001b[0;32m--> 376\u001b[0;31m                 \u001b[0mfd_event_list\u001b[0m \u001b[0;34m=\u001b[0m \u001b[0mself\u001b[0m\u001b[0;34m.\u001b[0m\u001b[0m_poll\u001b[0m\u001b[0;34m.\u001b[0m\u001b[0mpoll\u001b[0m\u001b[0;34m(\u001b[0m\u001b[0mtimeout\u001b[0m\u001b[0;34m)\u001b[0m\u001b[0;34m\u001b[0m\u001b[0m\n\u001b[0m\u001b[1;32m    377\u001b[0m             \u001b[0;32mexcept\u001b[0m \u001b[0mInterruptedError\u001b[0m\u001b[0;34m:\u001b[0m\u001b[0;34m\u001b[0m\u001b[0m\n\u001b[1;32m    378\u001b[0m                 \u001b[0;32mreturn\u001b[0m \u001b[0mready\u001b[0m\u001b[0;34m\u001b[0m\u001b[0m\n",
      "\u001b[0;31mKeyboardInterrupt\u001b[0m: "
     ]
    }
   ],
   "source": [
    "main()"
   ]
  },
  {
   "cell_type": "markdown",
   "metadata": {},
   "source": []
  }
 ],
 "metadata": {
  "kernelspec": {
   "display_name": "Python 3",
   "language": "python",
   "name": "python3"
  },
  "language_info": {
   "codemirror_mode": {
    "name": "ipython",
    "version": 3
   },
   "file_extension": ".py",
   "mimetype": "text/x-python",
   "name": "python",
   "nbconvert_exporter": "python",
   "pygments_lexer": "ipython3",
   "version": "3.6.4"
  }
 },
 "nbformat": 4,
 "nbformat_minor": 2
}
